{
 "cells": [
  {
   "cell_type": "code",
   "execution_count": 28,
   "metadata": {},
   "outputs": [
    {
     "name": "stdout",
     "output_type": "stream",
     "text": [
      "190057\n"
     ]
    }
   ],
   "source": [
    "# Summarize the StationData0-1-2 data exported by the code in the GSOM_pre.ipynb.\n",
    "import csv\n",
    "StationData0List = open('StationDataTav0.csv')\n",
    "StationData0List = list(csv.reader(StationData0List))\n",
    "StationDataList = StationData0List\n",
    "print(len(StationDataList))"
   ]
  },
  {
   "cell_type": "code",
   "execution_count": 29,
   "metadata": {},
   "outputs": [
    {
     "name": "stdout",
     "output_type": "stream",
     "text": [
      "575065\n"
     ]
    }
   ],
   "source": [
    "StationData1List = open('StationDataTav1.csv')\n",
    "StationData1List = list(csv.reader(StationData1List))\n",
    "StationDataList.extend(StationData1List[1:len(StationData1List)])\n",
    "print(len(StationDataList))"
   ]
  },
  {
   "cell_type": "code",
   "execution_count": 30,
   "metadata": {},
   "outputs": [],
   "source": [
    "StationData2List = open('StationDataTav2.csv')\n",
    "StationData2List = list(csv.reader(StationData2List))\n",
    "StationDataList.extend(StationData2List[1:len(StationData2List)])"
   ]
  },
  {
   "cell_type": "code",
   "execution_count": 34,
   "metadata": {},
   "outputs": [],
   "source": [
    "import pandas as pd\n",
    "pd.set_option('expand_frame_repr', False)\n",
    "pdPre = pd.DataFrame(columns=['rawID','STATION','DATE',\n",
    "                                             'LATITUDE','LONGITUDE','ELEVATION',\n",
    "                                             'NAME','TAVG','TAVG_ATTRIBUTES'],data=StationDataList)"
   ]
  },
  {
   "cell_type": "code",
   "execution_count": 35,
   "metadata": {},
   "outputs": [
    {
     "name": "stdout",
     "output_type": "stream",
     "text": [
      "830543\n"
     ]
    }
   ],
   "source": [
    "pdPre = pdPre[1:len(pdPre)]\n",
    "print(len(pdPre))"
   ]
  },
  {
   "cell_type": "code",
   "execution_count": 38,
   "metadata": {},
   "outputs": [
    {
     "name": "stdout",
     "output_type": "stream",
     "text": [
      "              LONGITUDE   LATITUDE ELEVATION                                             NAME  nianfenshu       TAVG\n",
      "STATION                                                                                                             \n",
      "AG000060390        3.25    36.7167        24                           ALGER DAR EL BEIDA, AG           9  17.866667\n",
      "AG000060590      2.8667    30.5667       397                                     EL GOLEA, AG           9  21.936667\n",
      "AG000060611      9.6331      28.05       561                                    IN AMENAS, AG           9  22.235556\n",
      "AG000060680      5.4331       22.8      1362                                  TAMANRASSET, AG           9  21.820000\n",
      "AGE00147716       -1.85       35.1        83                            NEMOURS GHAZAOUET, AG           3  18.416667\n",
      "AGM00060403       7.467     36.467       228                                       GUELMA, AG           2  18.650000\n",
      "AGM00060421       7.117     35.867       891                               OUM EL BOUAGHI, AG           1  15.370000\n",
      "AGM00060423       7.967     36.283       680                                   SOUK AHRAS, AG           1  15.970000\n",
      "AGM00060430       2.233       36.3       721                                      MILIANA, AG           3  17.803333\n",
      "AGM00060444       4.767     36.067       930                           BORDJ BOU ARRERIDJ, AG           1  16.810000\n",
      "AGM00060452      -0.267     35.817         4                                        ARZEW, AG           5  19.274000\n",
      "AGM00060467         4.5     35.667       442                                       M SILA, AG           5  19.644000\n",
      "AGM00060514       2.317     35.167       801                                KSAR CHELLALA, AG           1  17.140000\n",
      "AGM00060518       -1.35       35.3        70                                     BENI SAF, AG           2  19.400000\n",
      "AGM00060520      -0.617       35.2       476                               SIDI BEL ABBES, AG           9  17.230000\n",
      "AGM00060522       -1.77      34.82       426                                      MAGHNIA, AG           5  18.080000\n",
      "AGM00060535        3.25     34.683      1144                                DJELFA TLETSI, AG           8  15.121250\n",
      "AGM00060540       0.067      34.15      1001                                   EL KHEITER, AG           3  17.220000\n",
      "AGM00060550           1     33.667      1347                                    EL BAYADH, AG           2  15.635000\n",
      "AGM00060557        -0.3     33.267      1166                                        NAAMA, AG           7  16.952857\n",
      "AGM00060560        -0.6     32.767      1059                                    AIN SEFRA, AG           7  18.307143\n",
      "AGM00060602      -2.167     30.133       505                                   BENI ABBES, AG           6  24.573333\n",
      "AGM00060630         2.5     27.233       269                                     IN SALAH, AG           1  26.830000\n",
      "AJ000037989        48.9       38.5       -22                                       ASTARA, AJ          11  15.235455\n",
      "AM000037686       43.83      40.78      1523                                        GUMRI, AM           2   7.025000\n",
      "AM000037781        44.2       40.5      3223                         ARAGAC VISOKOGORNAYA, AM           5   0.000000\n",
      "AM000037787       44.05     40.133       865                                      ARMAVIR, AM           2  12.870000\n",
      "AM000037789        44.5       40.2      1113                                      YEREVAN, AM          11  12.369091\n",
      "AM000037801     45.1331      40.35      1961                                        GAVAR, AM          13   5.530769\n",
      "AQW00061705  -170.71361  -14.33056       3.7  PAGO PAGO WEATHER SERVICE OFFICE AIRPORT, AS AQ          29  27.882759\n",
      "...                 ...        ...       ...                                              ...         ...        ...\n",
      "UY000086330      -56.52      -30.4       121                              EST.MET.ARTIGAS, UY           7  19.568571\n",
      "UY000086430     -58.033    -32.333        61                                     PAYSANDU, UY           6  17.955000\n",
      "UY000086490     -58.067     -33.25        17                                     MERCEDES, UY           6  17.188333\n",
      "UY000086562      -57.85     -34.45        14                           LA ESTANZUELA EELE, UY           7  16.258571\n",
      "UY000086565       -54.3    -34.483        18                                        ROCHA, UY          15  16.658000\n",
      "UY000864400     -54.183    -32.366       100                                         MELO, UY           6  17.990000\n",
      "UZM00038262     59.8167      42.95        66                                       CIMBAJ, UZ          20  12.446500\n",
      "UZM00038413     64.6167    41.7331       237                                        TAMDY, UZ          16  15.059375\n",
      "UZM00038457     69.2694      41.27       477                                     TASHKENT, UZ          20  15.455500\n",
      "UZM00038618       71.75    40.3667       577                                      FERGANA, UZ          15  14.886000\n",
      "UZM00038696       66.95    39.5667       724                                    SAMARKAND, UZ          15  14.788667\n",
      "UZM00038927     67.2694    37.2294       309                                       TERMEZ, UZ          12  18.047500\n",
      "VE000080413      -67.65      10.25       437                            MARACAY B.A. SUCR, VE           7  25.965714\n",
      "VE000080423     -62.317     10.583        14                                       GUIRIA, VE           5  27.050000\n",
      "VE000080425     -70.933      9.817        28                                  MENE GRANDE, VE          11  28.903636\n",
      "VE000080438     -71.183        8.6      1498                                       MERIDA, VE          10  20.764000\n",
      "VE000080450      -67.42       7.68        47                                 SAN FERNANDO, VE          10  28.082000\n",
      "VE000080453      -61.45        7.3       181                                     TUMEREMO, VE           8  27.078750\n",
      "VE000080462     -61.117        4.6       907                          SANTA ELENA DE UAIR, VE           6  22.955000\n",
      "VQC00671348   -64.76056   18.34528     257.6                             CATHERINEBURG, VI US           1  25.300000\n",
      "VQC00671740    -64.7013    17.7469       9.1                        CHRISTIANSTED FORT, VI US           1  27.620000\n",
      "VQC00677600    -64.8542    18.3235       0.6                     REDHOOK BAY ST THOMAS, VI US           1  27.600000\n",
      "VQW00011624    -64.8125    17.6997      18.6      CHRISTIANSTED HAMILTON FIELD AIRPORT, VI US          17  27.185882\n",
      "VQW00011640      -64.98    18.3363       6.1     CHARLOTTE AMALIE CYRIL E KING AIRPORT, VI US          22  27.475909\n",
      "WA004191820       18.12     -26.53      1077                     J.G.H. VAN DER WATH AIRP, WA          14  21.505000\n",
      "WA006490640       15.05    -23.567       400                                      GOBABEB, WA           5  21.554000\n",
      "WA007401540        17.1    -22.567      1700                                     WINDHOEK, WA           8  20.775000\n",
      "WA010101860      18.117      -19.6      1400                                 GROOTFONTEIN, WA          10  21.808000\n",
      "WF000917530    -176.167    -13.233        27                            HIHIFO ILE WALLIS, WF          14  27.446429\n",
      "WQW00041606      166.65   19.28333         7                               WAKE ISLAND, UM WQ          12  27.305000\n",
      "\n",
      "[21513 rows x 6 columns]\n"
     ]
    }
   ],
   "source": [
    "pdPre.loc[:,'DATE'] = pdPre.loc[:,'DATE'].astype(\"int\")\n",
    "pdPre.loc[:,'TAVG'] = pdPre.loc[:,'TAVG'].astype(\"float\")\n",
    "\n",
    "pdPre[pdPre.TAVG < 0.0] = 0.0\n",
    "pdPre = pdPre[pdPre.DATE > 1989]\n",
    "\n",
    "# pdPreLATITUDE = pd.DataFrame(columns=['LATITUDE'],data = pdPre['LATITUDE'].unique())\n",
    "# pdPreLONGITUDE = pd.DataFrame(columns=['LONGITUDE'],data = pdPre['LONGITUDE'].unique())\n",
    "# pdPreELEVATION = pd.DataFrame(columns=['ELEVATION'],data = pdPre['ELEVATION'].unique())\n",
    "# pdPreNAME = pd.DataFrame(columns=['NAME'],data = pdPre['NAME'].unique())\n",
    "# pdPreother = pd.concat([pdPreLATITUDE,pdPreLONGITUDE,pdPreELEVATION,pdPreNAME],axis=1)\n",
    "pdPreother = pdPre.drop_duplicates(subset=['STATION'],keep='first')[{'LATITUDE','LONGITUDE','ELEVATION','NAME'}]\n",
    "pdPreother.index=pd.Series(pdPre['STATION'].unique())\n",
    "pdPreother.index.name = 'STATION'\n",
    "# print(pdtestother)\n",
    "\n",
    "# pdtestcounts= pdtest['STATION'].groupby(pdtest['STATION']).value_counts().to_frame()#不排序\n",
    "pdPrecounts= pdPre['STATION'].value_counts().to_frame()\n",
    "pdPrecounts.index.name = 'STATION'\n",
    "pdPrecounts=pdPrecounts.rename(columns={'STATION':'nianfenshu'})\n",
    "# print(pdPrecounts)\n",
    "pdPremergeother = pd.merge(pdPreother,pdPrecounts,on='STATION')\n",
    "# print(pdtestmergeother)\n",
    "\n",
    "pdPresum = pdPre.groupby(by=['STATION'])['TAVG'].mean().to_frame()\n",
    "# print(pdtestdf)\n",
    "\n",
    "res=pd.merge(pdPremergeother,pdPresum,on='STATION')\n",
    "print(res)\n"
   ]
  },
  {
   "cell_type": "code",
   "execution_count": 39,
   "metadata": {},
   "outputs": [],
   "source": [
    "res.to_csv('Temeco1990_2020.csv',encoding='gbk')"
   ]
  }
 ],
 "metadata": {
  "kernelspec": {
   "display_name": "Python 3 (ipykernel)",
   "language": "python",
   "name": "python3"
  },
  "language_info": {
   "codemirror_mode": {
    "name": "ipython",
    "version": 3
   },
   "file_extension": ".py",
   "mimetype": "text/x-python",
   "name": "python",
   "nbconvert_exporter": "python",
   "pygments_lexer": "ipython3",
   "version": "3.11.5"
  }
 },
 "nbformat": 4,
 "nbformat_minor": 4
}
