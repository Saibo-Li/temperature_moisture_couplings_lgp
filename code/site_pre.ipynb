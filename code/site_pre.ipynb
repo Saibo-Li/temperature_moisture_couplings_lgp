{
 "cells": [
  {
   "cell_type": "code",
   "execution_count": null,
   "metadata": {},
   "outputs": [],
   "source": [
    "#Processing the downloaded data in CSV format, \n",
    "# due to the limited number of rows stored in the csv data, the result file is divided into three files for storage\n",
    "import csv\n",
    "import os\n",
    "import pandas as pd\n",
    "\n",
    "\n",
    "def csvFile(fileName):\n",
    "    csvList = []\n",
    "    for root, dirs, files in os.walk(fileName):\n",
    "        for file in files:\n",
    "            csvList.append(file)\n",
    "    return csvList\n",
    "csvList = csvFile(r'data')\n",
    "CSVData = []\n",
    "# Processing a single csv\n",
    "for row in csvList:\n",
    "    CSVChild=[]\n",
    "    STATION=DATE=LATITUDE=LONGITUDE=ELEVATION=NAME=TAVG=TAVG_ATTRIBUTES=PRCP=PRCP_ATTRIBUTES = -9999 \n",
    "    csvChild = open(r'data\\%s' %(row))\n",
    "    csvChild = list(csv.reader(csvChild))\n",
    "    # Get the first row and field name of a single csv\n",
    "    csvChildRow0 = csvChild[0]\n",
    "    # Get the index of the field\n",
    "    STATION = csvChildRow0.index(\"STATION\")\n",
    "    DATE = csvChildRow0.index(\"DATE\")\n",
    "    LATITUDE = csvChildRow0.index(\"LATITUDE\")\n",
    "    LONGITUDE = csvChildRow0.index(\"LONGITUDE\")\n",
    "    ELEVATION = csvChildRow0.index(\"ELEVATION\")\n",
    "    NAME = csvChildRow0.index(\"NAME\")\n",
    "    #Processing some site csv files without temperature and precipitation fields\n",
    "    try:\n",
    "        TAVG = csvChildRow0.index(\"TAVG\")\n",
    "        TAVG_ATTRIBUTES = csvChildRow0.index(\"TAVG_ATTRIBUTES\")\n",
    "    except:\n",
    "        TAVG = TAVG_ATTRIBUTES=-9999\n",
    "#         print(\"no TAVG\")\n",
    "    try:\n",
    "        PRCP = csvChildRow0.index(\"PRCP\")\n",
    "        PRCP_ATTRIBUTES = csvChildRow0.index(\"PRCP_ATTRIBUTES\")\n",
    "    except:\n",
    "        PRCP=PRCP_ATTRIBUTES=-9999\n",
    "#         print(\"no PRCP\")\n",
    "    # Process the data rows of a single csv file (except for the first field name), extracting specific fields such as \"PRCP_ATTRIBUTES\".\n",
    "    for rowcsvChild in csvChild[1:len(csvChild)]:\n",
    "        if(PRCP_ATTRIBUTES == -9999):\n",
    "            CSVChild.append(-9999)\n",
    "        else:\n",
    "            CSVChild.append(rowcsvChild[PRCP_ATTRIBUTES])\n",
    "    # Summarize individual csv data rows\n",
    "    CSVData.extend(CSVChild)\n",
    "\n",
    "CSVData=pd.DataFrame(columns=['PRCP_ATTRIBUTES'],data=CSVData)\n",
    "print(len(CSVData))\n",
    "\n",
    "# Mainly because the 2016 version of office csv file to store up to 1048756 rows of data, while the extracted indicator information a total of 2428861 rows, \n",
    "# Extracted indicator information is divided into three csv file storage\n",
    "for i in range(int(len(CSVData)/1000000)+1):\n",
    "    if(1000000*(i+1)<len(CSVData)):\n",
    "        CSVDataSplit = CSVData[1000000*i:1000000*(i+1)]\n",
    "        CSVDataSplit.to_csv('PRCP_ATTRIBUTES%s.csv' %str(i),encoding='gbk')\n",
    "    else:\n",
    "        CSVDataSplit = CSVData[1000000*i:len(CSVData)]\n",
    "        CSVDataSplit.to_csv('PRCP_ATTRIBUTES%s.csv' %str(i),encoding='gbk')\n"
   ]
  },
  {
   "cell_type": "code",
   "execution_count": 6,
   "metadata": {},
   "outputs": [
    {
     "name": "stdout",
     "output_type": "stream",
     "text": [
      "685912\n"
     ]
    }
   ],
   "source": [
    "# Summarize the StationData0-1-2 data exported by the code in the previous paragraph.\n",
    "import csv\n",
    "StationData0List = open('StationDataPre0.csv')\n",
    "StationData0List = list(csv.reader(StationData0List))\n",
    "StationDataList = StationData0List\n",
    "print(len(StationDataList))"
   ]
  },
  {
   "cell_type": "code",
   "execution_count": 7,
   "metadata": {},
   "outputs": [
    {
     "name": "stdout",
     "output_type": "stream",
     "text": [
      "1267354\n"
     ]
    }
   ],
   "source": [
    "StationData1List = open('StationDataPre1.csv')\n",
    "StationData1List = list(csv.reader(StationData1List))\n",
    "StationDataList.extend(StationData1List[1:len(StationData1List)])\n",
    "print(len(StationDataList))"
   ]
  },
  {
   "cell_type": "code",
   "execution_count": 8,
   "metadata": {},
   "outputs": [],
   "source": [
    "StationData2List = open('StationDataPre2.csv')\n",
    "StationData2List = list(csv.reader(StationData2List))\n",
    "StationDataList.extend(StationData2List[1:len(StationData2List)])"
   ]
  },
  {
   "cell_type": "code",
   "execution_count": 11,
   "metadata": {},
   "outputs": [
    {
     "name": "stdout",
     "output_type": "stream",
     "text": [
      "1509680\n",
      "['', 'STATION', 'DATE', 'LATITUDE', 'LONGITUDE', 'ELEVATION', 'NAME', 'PRCP', 'PRCP_ATTRIBUTES']\n",
      "['2', 'ACW00011647', '1959', '17.13333', '-61.78333', '19.2', 'ST JOHNS, AC', '1115.5', ',X']\n",
      "['3', 'ACW00011647', '1960', '17.13333', '-61.78333', '19.2', 'ST JOHNS, AC', '856.1', ',X']\n",
      "['5', 'ACW00011647', '1962', '17.13333', '-61.78333', '19.2', 'ST JOHNS, AC', '1122.3', ',X']\n",
      "['6', 'ACW00011647', '1963', '17.13333', '-61.78333', '19.2', 'ST JOHNS, AC', '1107.5', ',X']\n",
      "['7', 'ACW00011647', '1964', '17.13333', '-61.78333', '19.2', 'ST JOHNS, AC', '849.2', ',X']\n",
      "['8', 'ACW00011647', '1965', '17.13333', '-61.78333', '19.2', 'ST JOHNS, AC', '913', ',X']\n",
      "['25', 'AEM00041194', '2004', '25.255', '55.364', '10.4', 'DUBAI INTERNATIONAL, AE', '58.7', ',S']\n",
      "['26', 'AEM00041194', '2006', '25.255', '55.364', '10.4', 'DUBAI INTERNATIONAL, AE', '103.7', ',S']\n",
      "['27', 'AEM00041194', '2010', '25.255', '55.364', '10.4', 'DUBAI INTERNATIONAL, AE', '122.7', ',S']\n",
      "['28', 'AEM00041194', '2011', '25.255', '55.364', '10.4', 'DUBAI INTERNATIONAL, AE', '25.6', ',S']\n",
      "['29', 'AEM00041194', '2012', '25.255', '55.364', '10.4', 'DUBAI INTERNATIONAL, AE', '52.2', ',S']\n",
      "['30', 'AEM00041194', '2014', '25.255', '55.364', '10.4', 'DUBAI INTERNATIONAL, AE', '59.3', ',S']\n",
      "['31', 'AEM00041194', '2019', '25.255', '55.364', '10.4', 'DUBAI INTERNATIONAL, AE', '73.8', ',S']\n",
      "['42', 'AG000060390', '1944', '36.7167', '3.25', '24', 'ALGER DAR EL BEIDA, AG', '543.2', ',E']\n",
      "['43', 'AG000060390', '1945', '36.7167', '3.25', '24', 'ALGER DAR EL BEIDA, AG', '470.4', ',E']\n",
      "['44', 'AG000060390', '1946', '36.7167', '3.25', '24', 'ALGER DAR EL BEIDA, AG', '750.7', ',E']\n",
      "['46', 'AG000060390', '1948', '36.7167', '3.25', '24', 'ALGER DAR EL BEIDA, AG', '528.2', ',E']\n",
      "['48', 'AG000060390', '1950', '36.7167', '3.25', '24', 'ALGER DAR EL BEIDA, AG', '692', ',E']\n",
      "['51', 'AG000060390', '1953', '36.7167', '3.25', '24', 'ALGER DAR EL BEIDA, AG', '630.4', ',E']\n"
     ]
    }
   ],
   "source": [
    "print(len(StationDataList))"
   ]
  },
  {
   "cell_type": "code",
   "execution_count": null,
   "metadata": {},
   "outputs": [],
   "source": [
    "# Get the year, use set to de-duplicate, get the year information\n",
    "UniqueYear = set()\n",
    "for rowUniqueYear in StationDataList[1:len(StationDataList)]:\n",
    "    UniqueYear.add(rowUniqueYear[2])\n",
    "UniqueYear = list(UniqueYear)\n",
    "UniqueYear.sort(reverse=True)\n",
    "print(UniqueYear)"
   ]
  },
  {
   "cell_type": "code",
   "execution_count": null,
   "metadata": {
    "tags": []
   },
   "outputs": [],
   "source": [
    "# Export data by year Save in C:\\Users\\XXX\\Desktop\\Weather Station Data\\04datayearly\\03station\n",
    "import pandas as pd\n",
    "# Get data by year\n",
    "for rowUniqueYear in UniqueYear:\n",
    "    print(rowUniqueYear)\n",
    "    UniqueYearLonely = rowUniqueYear\n",
    "    UniqueYearLonely = []\n",
    "    for rowStationDataList in StationDataList[1:len(StationDataList)]:\n",
    "        if(int(rowStationDataList[2]) == int(rowUniqueYear)):\n",
    "            UniqueYearLonely.append(rowStationDataList)\n",
    "    UniqueYearLonely = pd.DataFrame(columns=['rawID','STATION','DATE',\n",
    "                                             'LATITUDE','LONGITUDE','ELEVATION',\n",
    "                                             'NAME','TAVG','TAVG_ATTRIBUTES',\n",
    "                                             'PRCP','PRCP_ATTRIBUTES'],data=UniqueYearLonely)\n",
    "    UniqueYearLonely.to_csv('StationData_%s.csv' %str(rowUniqueYear),encoding='gbk')"
   ]
  },
  {
   "cell_type": "code",
   "execution_count": null,
   "metadata": {},
   "outputs": [],
   "source": []
  }
 ],
 "metadata": {
  "kernelspec": {
   "display_name": "Python 3 (ipykernel)",
   "language": "python",
   "name": "python3"
  },
  "language_info": {
   "codemirror_mode": {
    "name": "ipython",
    "version": 3
   },
   "file_extension": ".py",
   "mimetype": "text/x-python",
   "name": "python",
   "nbconvert_exporter": "python",
   "pygments_lexer": "ipython3",
   "version": "3.11.5"
  }
 },
 "nbformat": 4,
 "nbformat_minor": 4
}
