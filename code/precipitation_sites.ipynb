{
 "cells": [
  {
   "cell_type": "code",
   "execution_count": 1,
   "metadata": {},
   "outputs": [
    {
     "name": "stdout",
     "output_type": "stream",
     "text": [
      "685912\n"
     ]
    }
   ],
   "source": [
    "# Summarize the StationData0-1-2 data exported by the code in the GSOM_pre.ipynb.\n",
    "import csv\n",
    "StationData0List = open('StationDataPre0.csv')\n",
    "StationData0List = list(csv.reader(StationData0List))\n",
    "StationDataList = StationData0List\n",
    "print(len(StationDataList))"
   ]
  },
  {
   "cell_type": "code",
   "execution_count": 2,
   "metadata": {},
   "outputs": [
    {
     "name": "stdout",
     "output_type": "stream",
     "text": [
      "1267354\n"
     ]
    }
   ],
   "source": [
    "StationData1List = open('StationDataPre1.csv')\n",
    "StationData1List = list(csv.reader(StationData1List))\n",
    "StationDataList.extend(StationData1List[1:len(StationData1List)])\n",
    "print(len(StationDataList))"
   ]
  },
  {
   "cell_type": "code",
   "execution_count": 3,
   "metadata": {},
   "outputs": [],
   "source": [
    "StationData2List = open('StationDataPre2.csv')\n",
    "StationData2List = list(csv.reader(StationData2List))\n",
    "StationDataList.extend(StationData2List[1:len(StationData2List)])"
   ]
  },
  {
   "cell_type": "code",
   "execution_count": 4,
   "metadata": {},
   "outputs": [],
   "source": [
    "import pandas as pd\n",
    "pd.set_option('expand_frame_repr', False)\n",
    "pdPre = pd.DataFrame(columns=['rawID','STATION','DATE',\n",
    "                                             'LATITUDE','LONGITUDE','ELEVATION',\n",
    "                                             'NAME','PRCP','PRCP_ATTRIBUTES'],data=StationDataList)"
   ]
  },
  {
   "cell_type": "code",
   "execution_count": 5,
   "metadata": {},
   "outputs": [
    {
     "name": "stdout",
     "output_type": "stream",
     "text": [
      "1509679\n"
     ]
    }
   ],
   "source": [
    "pdPre = pdPre[1:len(pdPre)]\n",
    "print(len(pdPre))"
   ]
  },
  {
   "cell_type": "code",
   "execution_count": 8,
   "metadata": {},
   "outputs": [],
   "source": [
    "pdPre.loc[:,'DATE'] = pdPre.loc[:,'DATE'].astype(\"int\")\n",
    "pdPre.loc[:,'PRCP'] = pdPre.loc[:,'PRCP'].astype(\"float\")\n",
    "pdPre = pdPre[pdPre.DATE > 1989]"
   ]
  },
  {
   "cell_type": "code",
   "execution_count": 24,
   "metadata": {},
   "outputs": [
    {
     "name": "stdout",
     "output_type": "stream",
     "text": [
      "    rawID      STATION  DATE LATITUDE LONGITUDE ELEVATION                     NAME    PRCP PRCP_ATTRIBUTES\n",
      "7      25  AEM00041194  2004   25.255    55.364      10.4  DUBAI INTERNATIONAL, AE    58.7              ,S\n",
      "8      26  AEM00041194  2006   25.255    55.364      10.4  DUBAI INTERNATIONAL, AE   103.7              ,S\n",
      "9      27  AEM00041194  2010   25.255    55.364      10.4  DUBAI INTERNATIONAL, AE   122.7              ,S\n",
      "10     28  AEM00041194  2011   25.255    55.364      10.4  DUBAI INTERNATIONAL, AE    25.6              ,S\n",
      "11     29  AEM00041194  2012   25.255    55.364      10.4  DUBAI INTERNATIONAL, AE    52.2              ,S\n",
      "12     30  AEM00041194  2014   25.255    55.364      10.4  DUBAI INTERNATIONAL, AE    59.3              ,S\n",
      "13     31  AEM00041194  2019   25.255    55.364      10.4  DUBAI INTERNATIONAL, AE    73.8              ,S\n",
      "46     87  AG000060390  1990  36.7167      3.25        24   ALGER DAR EL BEIDA, AG   452.2              ,E\n",
      "47     88  AG000060390  1991  36.7167      3.25        24   ALGER DAR EL BEIDA, AG   431.1              ,E\n",
      "48     89  AG000060390  1992  36.7167      3.25        24   ALGER DAR EL BEIDA, AG   755.8              ,E\n",
      "49     90  AG000060390  1993  36.7167      3.25        24   ALGER DAR EL BEIDA, AG   489.8              ,E\n",
      "50     91  AG000060390  1994  36.7167      3.25        24   ALGER DAR EL BEIDA, AG   456.8              ,E\n",
      "51     92  AG000060390  1995  36.7167      3.25        24   ALGER DAR EL BEIDA, AG   551.7              ,E\n",
      "52     93  AG000060390  1996  36.7167      3.25        24   ALGER DAR EL BEIDA, AG   801.8              ,E\n",
      "53     94  AG000060390  1997  36.7167      3.25        24   ALGER DAR EL BEIDA, AG   546.6              ,E\n",
      "54     95  AG000060390  1998  36.7167      3.25        24   ALGER DAR EL BEIDA, AG   609.3              ,E\n",
      "55     96  AG000060390  2004  36.7167      3.25        24   ALGER DAR EL BEIDA, AG   642.8              ,S\n",
      "56     97  AG000060390  2005  36.7167      3.25        24   ALGER DAR EL BEIDA, AG   547.9              ,S\n",
      "57     98  AG000060390  2006  36.7167      3.25        24   ALGER DAR EL BEIDA, AG   565.1              ,S\n",
      "58     99  AG000060390  2007  36.7167      3.25        24   ALGER DAR EL BEIDA, AG   762.0              ,S\n",
      "59    100  AG000060390  2008  36.7167      3.25        24   ALGER DAR EL BEIDA, AG   498.4              ,S\n",
      "60    101  AG000060390  2009  36.7167      3.25        24   ALGER DAR EL BEIDA, AG   606.7              ,S\n",
      "61    102  AG000060390  2010  36.7167      3.25        24   ALGER DAR EL BEIDA, AG   575.3              ,S\n",
      "62    103  AG000060390  2011  36.7167      3.25        24   ALGER DAR EL BEIDA, AG   683.3              ,S\n",
      "63    104  AG000060390  2012  36.7167      3.25        24   ALGER DAR EL BEIDA, AG   836.6              ,S\n",
      "64    105  AG000060390  2013  36.7167      3.25        24   ALGER DAR EL BEIDA, AG   884.6              ,S\n",
      "65    106  AG000060390  2014  36.7167      3.25        24   ALGER DAR EL BEIDA, AG   551.3              ,S\n",
      "115   160  AG000060590  1990  30.5667    2.8667       397             EL GOLEA, AG    52.0              ,I\n",
      "116   161  AG000060590  1991  30.5667    2.8667       397             EL GOLEA, AG    16.0              ,I\n",
      "117   162  AG000060590  1992  30.5667    2.8667       397             EL GOLEA, AG    54.0              ,I\n",
      "..    ...          ...   ...      ...       ...       ...                      ...     ...             ...\n",
      "213   281  AG000060680  1998     22.8    5.4331      1362          TAMANRASSET, AG    33.0              ,I\n",
      "214   283  AG000060680  2004     22.8    5.4331      1362          TAMANRASSET, AG    28.5              ,S\n",
      "215   284  AG000060680  2008     22.8    5.4331      1362          TAMANRASSET, AG    23.6              ,S\n",
      "406   483  AGE00147708  2005    36.72      4.05       222           TIZI OUZOU, AG   548.0              ,S\n",
      "407   484  AGE00147708  2006    36.72      4.05       222           TIZI OUZOU, AG   666.4              ,S\n",
      "408   485  AGE00147708  2007    36.72      4.05       222           TIZI OUZOU, AG  1148.3              ,S\n",
      "409   486  AGE00147708  2008    36.72      4.05       222           TIZI OUZOU, AG   651.7              ,S\n",
      "410   487  AGE00147708  2009    36.72      4.05       222           TIZI OUZOU, AG  1017.8              ,S\n",
      "411   488  AGE00147708  2010    36.72      4.05       222           TIZI OUZOU, AG   778.2              ,S\n",
      "412   489  AGE00147708  2011    36.72      4.05       222           TIZI OUZOU, AG   852.5              ,S\n",
      "413   490  AGE00147708  2012    36.72      4.05       222           TIZI OUZOU, AG   728.0              ,S\n",
      "414   491  AGE00147708  2013    36.72      4.05       222           TIZI OUZOU, AG  1053.7              ,S\n",
      "415   492  AGE00147708  2014    36.72      4.05       222           TIZI OUZOU, AG   792.4              ,S\n",
      "416   493  AGE00147708  2016    36.72      4.05       222           TIZI OUZOU, AG   697.1              ,S\n",
      "417   494  AGE00147708  2017    36.72      4.05       222           TIZI OUZOU, AG   652.0              ,S\n",
      "418   495  AGE00147708  2019    36.72      4.05       222           TIZI OUZOU, AG   723.7              ,S\n",
      "627   715  AGE00147716  2005     35.1     -1.85        83    NEMOURS GHAZAOUET, AG   315.5              ,S\n",
      "628   716  AGE00147716  2006     35.1     -1.85        83    NEMOURS GHAZAOUET, AG   310.2              ,S\n",
      "629   717  AGE00147716  2009     35.1     -1.85        83    NEMOURS GHAZAOUET, AG   320.1              ,S\n",
      "630   718  AGE00147716  2010     35.1     -1.85        83    NEMOURS GHAZAOUET, AG   533.3              ,S\n",
      "631   719  AGE00147716  2011     35.1     -1.85        83    NEMOURS GHAZAOUET, AG   493.9              ,S\n",
      "632   720  AGE00147716  2012     35.1     -1.85        83    NEMOURS GHAZAOUET, AG   437.8              ,S\n",
      "633   721  AGE00147716  2013     35.1     -1.85        83    NEMOURS GHAZAOUET, AG   520.7              ,S\n",
      "634   722  AGE00147716  2014     35.1     -1.85        83    NEMOURS GHAZAOUET, AG   459.7              ,S\n",
      "635   723  AGE00147716  2016     35.1     -1.85        83    NEMOURS GHAZAOUET, AG   253.2              ,S\n",
      "636   724  AGE00147716  2017     35.1     -1.85        83    NEMOURS GHAZAOUET, AG   217.0              ,S\n",
      "637   725  AGE00147716  2019     35.1     -1.85        83    NEMOURS GHAZAOUET, AG   247.3              ,S\n",
      "698   790  AGE00147718  2004    34.85      5.72       125               BISKRA, AG   303.9              ,S\n",
      "699   791  AGE00147718  2005    34.85      5.72       125               BISKRA, AG    77.5              ,S\n",
      "700   792  AGE00147718  2006    34.85      5.72       125               BISKRA, AG   132.7              ,S\n",
      "\n",
      "[100 rows x 9 columns]\n"
     ]
    }
   ],
   "source": [
    "print(pdPre[0:100])"
   ]
  },
  {
   "cell_type": "code",
   "execution_count": 16,
   "metadata": {},
   "outputs": [
    {
     "name": "stdout",
     "output_type": "stream",
     "text": [
      "     ELEVATION LATITUDE LONGITUDE                               NAME\n",
      "7         10.4   25.255    55.364            DUBAI INTERNATIONAL, AE\n",
      "46          24  36.7167      3.25             ALGER DAR EL BEIDA, AG\n",
      "115        397  30.5667    2.8667                       EL GOLEA, AG\n",
      "160        561    28.05    9.6331                      IN AMENAS, AG\n",
      "206       1362     22.8    5.4331                    TAMANRASSET, AG\n",
      "406        222    36.72      4.05                     TIZI OUZOU, AG\n",
      "627         83     35.1     -1.85              NEMOURS GHAZAOUET, AG\n",
      "698        125    34.85      5.72                         BISKRA, AG\n",
      "728        767  33.7997      2.89                       LAGHOUAT, AG\n",
      "752         11   36.795     5.874                          JIJEL, AG\n",
      "765          6   36.817     5.883                     JIJEL PORT, AG\n",
      "766          7   36.933      6.95                         SKIKDA, AG\n",
      "772        4.9   36.822     7.809                         ANNABA, AG\n",
      "785         12   36.767       3.1                     ALGER PORT, AG\n",
      "788        6.1   36.712      5.07                        SOUMMAM, AG\n",
      "799        228   36.467     7.467                         GUELMA, AG\n",
      "805      690.4   36.276      6.62  MOHAMED BOUDIAF INTERNATIONAL, AG\n",
      "817        891   35.867     7.117                 OUM EL BOUAGHI, AG\n",
      "822        680   36.283     7.967                     SOUK AHRAS, AG\n",
      "828      141.1   36.213     1.332                    ECH CHELIFF, AG\n",
      "837        721     36.3     2.233                        MILIANA, AG\n",
      "850       1036   36.283     2.733                          MEDEA, AG\n",
      "862        930   36.067     4.767             BORDJ BOU ARRERIDJ, AG\n",
      "872       1050   36.178     5.324                SETIF AIN ARNAT, AG\n",
      "883          4   35.817    -0.267                          ARZEW, AG\n",
      "892        138   35.883     0.117                     MOSTAGANEM, AG\n",
      "904         22     35.7     -0.65                      ORAN PORT, AG\n",
      "909        442   35.667       4.5                         M SILA, AG\n",
      "915       1052    35.55     6.183                          BATNA, AG\n",
      "926      811.1   35.432     8.121           CHEIKH LARBI TEBESSI, AG\n",
      "...        ...      ...       ...                                ...\n",
      "1842      1082   40.867    48.933                      ALTIAGACH, AJ\n",
      "1870       755   40.533    48.933                         MARAZA, AJ\n",
      "1918       892   40.633    48.633                       SHAMAKHY, AJ\n",
      "1950       -19     40.6    49.633                        SUMGAIT, AJ\n",
      "1978      1655     40.5      46.1                      DASHKESAN, AJ\n",
      "2003      1612     40.4      46.3                  GEYGEL KURORT, AJ\n",
      "2039        69     40.4      47.1                          BARDA, AJ\n",
      "2065        -5     40.2      47.7                         ZARDOB, AJ\n",
      "2108         4   40.333    48.167                       KURDAMIR, AJ\n",
      "2156        -5   40.017    48.917            GAZIMAMMAD AERODROM, AJ\n",
      "2256        47     40.4      49.8                           BAKU, AJ\n",
      "2279        28   40.533        50                       MASHTAGA, AJ\n",
      "2300       -15     40.2      50.9                      NEFT JNIE, AJ\n",
      "2321       -24   40.467    50.317                      PIRALLAHI, AJ\n",
      "2480       828   39.983     46.75                      KHANKANDY, AJ\n",
      "2525      1152     39.7      46.5                         LACHIN, AJ\n",
      "2562      1355   39.767     46.75                         SHUSHA, AJ\n",
      "2585       414     39.8      47.1                        MARTUNY, AJ\n",
      "2639        71   39.767     47.75             BEYLAGAN AERODROME, AJ\n",
      "2681       439     39.6     47.15                         FIZULY, AJ\n",
      "2702       -16     39.9      48.5                      DJAFARHAN, AJ\n",
      "2768        -1     39.9        48                         IMISLY, AJ\n",
      "2785       -25     39.8      49.6                  SVINOY OSTROV, AJ\n",
      "2824       -16   39.967      49.4                           ALAT, AJ\n",
      "2851       -24     39.4     49.25                      NEFTCHALA, AJ\n",
      "2902       885     39.2    45.417                       NAXCIVAN, AJ\n",
      "2941      1205     39.4      45.6                         SAHBUZ, AJ\n",
      "2951      3268     39.1        46                     PARAGACHAY, AJ\n",
      "3065       313       39      46.7                      MINDJEVAN, AJ\n",
      "3112         3   39.467     48.55                      BILASUVAR, AJ\n",
      "\n",
      "[100 rows x 4 columns]\n"
     ]
    }
   ],
   "source": [
    "pdPreother = pdPre.drop_duplicates(subset=['STATION'],keep='first')[{'LATITUDE','LONGITUDE','ELEVATION','NAME'}]\n",
    "pdPreother.index=pd.Series(pdPre['STATION'].unique())\n",
    "pdPreother.index.name = 'STATION'"
   ]
  },
  {
   "cell_type": "code",
   "execution_count": 29,
   "metadata": {},
   "outputs": [],
   "source": [
    "pdPrecounts= pdPre['STATION'].value_counts().to_frame()\n",
    "pdPrecounts.index.name = 'STATION'\n",
    "pdPrecounts=pdPrecounts.rename(columns={'STATION':'nianfenshu'})"
   ]
  },
  {
   "cell_type": "code",
   "execution_count": 31,
   "metadata": {},
   "outputs": [],
   "source": [
    "pdPremergeother = pd.merge(pdPreother,pdPrecounts,on='STATION')"
   ]
  },
  {
   "cell_type": "code",
   "execution_count": 32,
   "metadata": {},
   "outputs": [
    {
     "name": "stdout",
     "output_type": "stream",
     "text": [
      "            ELEVATION  LATITUDE  LONGITUDE                                          NAME  nianfenshu\n",
      "STATION                                                                                             \n",
      "AEM00041194      10.4    25.255     55.364                       DUBAI INTERNATIONAL, AE           7\n",
      "AG000060390        24   36.7167       3.25                        ALGER DAR EL BEIDA, AG          20\n",
      "AG000060590       397   30.5667     2.8667                                  EL GOLEA, AG          17\n",
      "AG000060611       561     28.05     9.6331                                 IN AMENAS, AG          19\n",
      "AG000060680      1362      22.8     5.4331                               TAMANRASSET, AG          10\n",
      "AGE00147708       222     36.72       4.05                                TIZI OUZOU, AG          13\n",
      "AGE00147716        83      35.1      -1.85                         NEMOURS GHAZAOUET, AG          11\n",
      "AGE00147718       125     34.85       5.72                                    BISKRA, AG          10\n",
      "AGE00147719       767   33.7997       2.89                                  LAGHOUAT, AG           1\n",
      "AGM00060351        11    36.795      5.874                                     JIJEL, AG          13\n",
      "AGM00060353         6    36.817      5.883                                JIJEL PORT, AG           1\n",
      "AGM00060355         7    36.933       6.95                                    SKIKDA, AG           6\n",
      "AGM00060360       4.9    36.822      7.809                                    ANNABA, AG          13\n",
      "AGM00060369        12    36.767        3.1                                ALGER PORT, AG           2\n",
      "AGM00060402       6.1    36.712       5.07                                   SOUMMAM, AG          11\n",
      "AGM00060403       228    36.467      7.467                                    GUELMA, AG           6\n",
      "AGM00060419     690.4    36.276       6.62             MOHAMED BOUDIAF INTERNATIONAL, AG          12\n",
      "AGM00060421       891    35.867      7.117                            OUM EL BOUAGHI, AG           5\n",
      "AGM00060423       680    36.283      7.967                                SOUK AHRAS, AG           6\n",
      "AGM00060425     141.1    36.213      1.332                               ECH CHELIFF, AG           9\n",
      "AGM00060430       721      36.3      2.233                                   MILIANA, AG          13\n",
      "AGM00060437      1036    36.283      2.733                                     MEDEA, AG          12\n",
      "AGM00060444       930    36.067      4.767                        BORDJ BOU ARRERIDJ, AG          10\n",
      "AGM00060445      1050    36.178      5.324                           SETIF AIN ARNAT, AG          11\n",
      "AGM00060452         4    35.817     -0.267                                     ARZEW, AG           9\n",
      "AGM00060457       138    35.883      0.117                                MOSTAGANEM, AG          12\n",
      "AGM00060461        22      35.7      -0.65                                 ORAN PORT, AG           5\n",
      "AGM00060467       442    35.667        4.5                                    M SILA, AG           6\n",
      "AGM00060468      1052     35.55      6.183                                     BATNA, AG          11\n",
      "AGM00060475     811.1    35.432      8.121                      CHEIKH LARBI TEBESSI, AG           8\n",
      "...               ...       ...        ...                                           ...         ...\n",
      "VQC00671348     257.6  18.34528  -64.76056                          CATHERINEBURG, VI US           3\n",
      "VQC00671740       9.1   17.7469   -64.7013                     CHRISTIANSTED FORT, VI US           3\n",
      "VQC00671790       9.1   18.3491   -64.7136                              CORAL BAY, VI US           3\n",
      "VQC00671810      42.7  17.76028  -64.61278                        COTTON VALLEY 2, VI US           7\n",
      "VQC00671980       2.4   18.3347   -64.7941                               CRUZ BAY, VI US           4\n",
      "VQC00672551        32   18.3347   -64.7594                               EAST END, VI US           5\n",
      "VQC00672560      36.6   17.7561   -64.6494                              EAST HILL, VI US          16\n",
      "VQC00672823        61  18.33333      -64.9                     ESTATE FORT MYLNER, VI US           4\n",
      "VQC00672870      39.6  17.74194  -64.66028                       ESTATE THE SIGHT, VI US           9\n",
      "VQC00673150      76.2     17.75  -64.83333                               FOUNTAIN, VI US           1\n",
      "VQC00673677      19.8  17.71639  -64.71167                                GRANARD, VI US           7\n",
      "VQC00674900        61   17.7705   -64.7552                            MONTPELLIER, VI US           1\n",
      "VQC00676000      65.2   17.7456   -64.8883                          PROSPECT HILL, VI US           3\n",
      "VQC00677600       0.6   18.3235   -64.8542                  REDHOOK BAY ST THOMAS, VI US           1\n",
      "VQC00679450     196.6   18.3503   -64.9167                               WINTBERG, VI US           7\n",
      "VQW00011624      18.6   17.6997   -64.8125   CHRISTIANSTED HAMILTON FIELD AIRPORT, VI US          11\n",
      "VQW00011640       6.1   18.3363     -64.98  CHARLOTTE AMALIE CYRIL E KING AIRPORT, VI US          12\n",
      "WA004191820      1077    -26.53      18.12                  J.G.H. VAN DER WATH AIRP, WA           9\n",
      "WA004970190      1000    -25.77         20                                 MATA MATA, WA           3\n",
      "WA007401540      1700   -22.567       17.1                                  WINDHOEK, WA          14\n",
      "WA010101860      1400     -19.6     18.117                              GROOTFONTEIN, WA          14\n",
      "WQW00041606         7  19.28333     166.65                            WAKE ISLAND, UM WQ           9\n",
      "WZ004455110       641   -26.533       31.3                       MANZINI MATSAPA AIR, WZ           2\n",
      "WZ004467410       100    -26.85      31.92                      BIG BEND WISSEL RODE, WZ           4\n",
      "ZA000067403      1324      -9.8     29.083                                  KAWAMBWA, ZA           1\n",
      "ZA000067475      1384   -10.217     31.133                                    KASAMA, ZA           1\n",
      "ZA000067551      1386   -12.183     26.383                                   SOLWEZI, ZA           1\n",
      "ZA000067633      1053    -15.25      23.15                                     MONGU, ZA           1\n",
      "ZA000067741       951   -17.467       24.3                                   SESHEKE, ZA           1\n",
      "ZA000067743       986   -17.817     25.817                               LIVINGSTONE, ZA           1\n",
      "\n",
      "[45165 rows x 5 columns]\n"
     ]
    }
   ],
   "source": [
    "print(pdPremergeother)"
   ]
  },
  {
   "cell_type": "code",
   "execution_count": 27,
   "metadata": {},
   "outputs": [
    {
     "name": "stdout",
     "output_type": "stream",
     "text": [
      "            ELEVATION  LONGITUDE  LATITUDE                                          NAME  nianfenshu         PRCP\n",
      "STATION                                                                                                          \n",
      "AEM00041194      10.4     55.364    25.255                       DUBAI INTERNATIONAL, AE           7    70.857143\n",
      "AG000060390        24       3.25   36.7167                        ALGER DAR EL BEIDA, AG          20   612.455000\n",
      "AG000060590       397     2.8667   30.5667                                  EL GOLEA, AG          17    39.964706\n",
      "AG000060611       561     9.6331     28.05                                 IN AMENAS, AG          19    24.657895\n",
      "AG000060680      1362     5.4331      22.8                               TAMANRASSET, AG          10    43.810000\n",
      "AGE00147708       222       4.05     36.72                                TIZI OUZOU, AG          13   793.061538\n",
      "AGE00147716        83      -1.85      35.1                         NEMOURS GHAZAOUET, AG          11   373.518182\n",
      "AGE00147718       125       5.72     34.85                                    BISKRA, AG          10   158.390000\n",
      "AGE00147719       767       2.89   33.7997                                  LAGHOUAT, AG           1   159.800000\n",
      "AGM00060351        11      5.874    36.795                                     JIJEL, AG          13  1034.476923\n",
      "AGM00060353         6      5.883    36.817                                JIJEL PORT, AG           1  1181.200000\n",
      "AGM00060355         7       6.95    36.933                                    SKIKDA, AG           6   729.083333\n",
      "AGM00060360       4.9      7.809    36.822                                    ANNABA, AG          13   646.130769\n",
      "AGM00060369        12        3.1    36.767                                ALGER PORT, AG           2   816.950000\n",
      "AGM00060402       6.1       5.07    36.712                                   SOUMMAM, AG          11   830.963636\n",
      "AGM00060403       228      7.467    36.467                                    GUELMA, AG           6   565.650000\n",
      "AGM00060419     690.4       6.62    36.276             MOHAMED BOUDIAF INTERNATIONAL, AG          12   474.741667\n",
      "AGM00060421       891      7.117    35.867                            OUM EL BOUAGHI, AG           5   320.860000\n",
      "AGM00060423       680      7.967    36.283                                SOUK AHRAS, AG           6   795.300000\n",
      "AGM00060425     141.1      1.332    36.213                               ECH CHELIFF, AG           9   448.344444\n",
      "AGM00060430       721      2.233      36.3                                   MILIANA, AG          13   784.807692\n",
      "AGM00060437      1036      2.733    36.283                                     MEDEA, AG          12   759.766667\n",
      "AGM00060444       930      4.767    36.067                        BORDJ BOU ARRERIDJ, AG          10   348.400000\n",
      "AGM00060445      1050      5.324    36.178                           SETIF AIN ARNAT, AG          11   421.009091\n",
      "AGM00060452         4     -0.267    35.817                                     ARZEW, AG           9   328.911111\n",
      "AGM00060457       138      0.117    35.883                                MOSTAGANEM, AG          12   404.300000\n",
      "AGM00060461        22      -0.65      35.7                                 ORAN PORT, AG           5   288.820000\n",
      "AGM00060467       442        4.5    35.667                                    M SILA, AG           6   151.316667\n",
      "AGM00060468      1052      6.183     35.55                                     BATNA, AG          11   321.145455\n",
      "AGM00060475     811.1      8.121    35.432                      CHEIKH LARBI TEBESSI, AG           8   403.887500\n",
      "...               ...        ...       ...                                           ...         ...          ...\n",
      "VQC00671348     257.6  -64.76056  18.34528                          CATHERINEBURG, VI US           3  1039.266667\n",
      "VQC00671740       9.1   -64.7013   17.7469                     CHRISTIANSTED FORT, VI US           3   876.733333\n",
      "VQC00671790       9.1   -64.7136   18.3491                              CORAL BAY, VI US           3   943.733333\n",
      "VQC00671810      42.7  -64.61278  17.76028                        COTTON VALLEY 2, VI US           7   620.028571\n",
      "VQC00671980       2.4   -64.7941   18.3347                               CRUZ BAY, VI US           4  1068.900000\n",
      "VQC00672551        32   -64.7594   18.3347                               EAST END, VI US           5   995.960000\n",
      "VQC00672560      36.6   -64.6494   17.7561                              EAST HILL, VI US          16   867.843750\n",
      "VQC00672823        61      -64.9  18.33333                     ESTATE FORT MYLNER, VI US           4  1073.650000\n",
      "VQC00672870      39.6  -64.66028  17.74194                       ESTATE THE SIGHT, VI US           9   910.333333\n",
      "VQC00673150      76.2  -64.83333     17.75                               FOUNTAIN, VI US           1   783.800000\n",
      "VQC00673677      19.8  -64.71167  17.71639                                GRANARD, VI US           7   841.642857\n",
      "VQC00674900        61   -64.7552   17.7705                            MONTPELLIER, VI US           1   952.200000\n",
      "VQC00676000      65.2   -64.8883   17.7456                          PROSPECT HILL, VI US           3  1187.300000\n",
      "VQC00677600       0.6   -64.8542   18.3235                  REDHOOK BAY ST THOMAS, VI US           1  1196.400000\n",
      "VQC00679450     196.6   -64.9167   18.3503                               WINTBERG, VI US           7  1066.514286\n",
      "VQW00011624      18.6   -64.8125   17.6997   CHRISTIANSTED HAMILTON FIELD AIRPORT, VI US          11   869.118182\n",
      "VQW00011640       6.1     -64.98   18.3363  CHARLOTTE AMALIE CYRIL E KING AIRPORT, VI US          12   942.841667\n",
      "WA004191820      1077      18.12    -26.53                  J.G.H. VAN DER WATH AIRP, WA           9   161.444444\n",
      "WA004970190      1000         20    -25.77                                 MATA MATA, WA           3   186.233333\n",
      "WA007401540      1700       17.1   -22.567                                  WINDHOEK, WA          14   328.714286\n",
      "WA010101860      1400     18.117     -19.6                              GROOTFONTEIN, WA          14   481.928571\n",
      "WQW00041606         7     166.65  19.28333                            WAKE ISLAND, UM WQ           9   918.688889\n",
      "WZ004455110       641       31.3   -26.533                       MANZINI MATSAPA AIR, WZ           2   755.900000\n",
      "WZ004467410       100      31.92    -26.85                      BIG BEND WISSEL RODE, WZ           4   529.925000\n",
      "ZA000067403      1324     29.083      -9.8                                  KAWAMBWA, ZA           1  1266.300000\n",
      "ZA000067475      1384     31.133   -10.217                                    KASAMA, ZA           1  1006.800000\n",
      "ZA000067551      1386     26.383   -12.183                                   SOLWEZI, ZA           1  1233.800000\n",
      "ZA000067633      1053      23.15    -15.25                                     MONGU, ZA           1   759.100000\n",
      "ZA000067741       951       24.3   -17.467                                   SESHEKE, ZA           1   476.300000\n",
      "ZA000067743       986     25.817   -17.817                               LIVINGSTONE, ZA           1   582.400000\n",
      "\n",
      "[45165 rows x 6 columns]\n"
     ]
    }
   ],
   "source": [
    "pdPre.loc[:,'DATE'] = pdPre.loc[:,'DATE'].astype(\"int\")\n",
    "pdPre.loc[:,'PRCP'] = pdPre.loc[:,'PRCP'].astype(\"float\")\n",
    "pdPre = pdPre[pdPre.DATE > 1989]\n",
    "\n",
    "# pdPreLATITUDE = pd.DataFrame(columns=['LATITUDE'],data = pdPre['LATITUDE'].unique())\n",
    "# pdPreLONGITUDE = pd.DataFrame(columns=['LONGITUDE'],data = pdPre['LONGITUDE'].unique())\n",
    "# pdPreELEVATION = pd.DataFrame(columns=['ELEVATION'],data = pdPre['ELEVATION'].unique())\n",
    "# pdPreNAME = pd.DataFrame(columns=['NAME'],data = pdPre['NAME'].unique())\n",
    "# pdPreother = pd.concat([pdPreLATITUDE,pdPreLONGITUDE,pdPreELEVATION,pdPreNAME],axis=1)\n",
    "pdPreother = pdPre.drop_duplicates(subset=['STATION'],keep='first')[{'LATITUDE','LONGITUDE','ELEVATION','NAME'}]\n",
    "pdPreother.index=pd.Series(pdPre['STATION'].unique())\n",
    "pdPreother.index.name = 'STATION'\n",
    "# print(pdtestother)\n",
    "\n",
    "# pdtestcounts= pdtest['STATION'].groupby(pdtest['STATION']).value_counts().to_frame()#不排序\n",
    "pdPrecounts= pdPre['STATION'].value_counts().to_frame()\n",
    "pdPrecounts.index.name = 'STATION'\n",
    "pdPrecounts=pdPrecounts.rename(columns={'STATION':'nianfenshu'})\n",
    "# print(pdPrecounts)\n",
    "pdPremergeother = pd.merge(pdPreother,pdPrecounts,on='STATION')\n",
    "# print(pdtestmergeother)\n",
    "\n",
    "pdPresum = pdPre.groupby(by=['STATION'])['PRCP'].mean().to_frame()\n",
    "# print(pdtestdf)\n",
    "\n",
    "res=pd.merge(pdPremergeother,pdPresum,on='STATION')\n",
    "print(res)"
   ]
  },
  {
   "cell_type": "code",
   "execution_count": 28,
   "metadata": {},
   "outputs": [],
   "source": [
    "res.to_csv('stationData1990_2020.csv',encoding='gbk')"
   ]
  }
 ],
 "metadata": {
  "kernelspec": {
   "display_name": "Python 3 (ipykernel)",
   "language": "python",
   "name": "python3"
  },
  "language_info": {
   "codemirror_mode": {
    "name": "ipython",
    "version": 3
   },
   "file_extension": ".py",
   "mimetype": "text/x-python",
   "name": "python",
   "nbconvert_exporter": "python",
   "pygments_lexer": "ipython3",
   "version": "3.11.5"
  }
 },
 "nbformat": 4,
 "nbformat_minor": 4
}
